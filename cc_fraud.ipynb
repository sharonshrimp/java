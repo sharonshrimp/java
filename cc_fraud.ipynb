{
  "nbformat": 4,
  "nbformat_minor": 0,
  "metadata": {
    "celltoolbar": "Slideshow",
    "kernelspec": {
      "display_name": "Python 3",
      "language": "python",
      "name": "python3"
    },
    "language_info": {
      "codemirror_mode": {
        "name": "ipython",
        "version": 3
      },
      "file_extension": ".py",
      "mimetype": "text/x-python",
      "name": "python",
      "nbconvert_exporter": "python",
      "pygments_lexer": "ipython3",
      "version": "3.7.6"
    },
    "colab": {
      "name": "cc_fraud.ipynb",
      "provenance": [],
      "collapsed_sections": [
        "TTfsx3YWld73",
        "RvR2I0P5ld73",
        "Q85du3SXld73",
        "JhUnzgjVld73"
      ],
      "include_colab_link": true
    }
  },
  "cells": [
    {
      "cell_type": "markdown",
      "metadata": {
        "id": "view-in-github",
        "colab_type": "text"
      },
      "source": [
        "<a href=\"https://colab.research.google.com/github/sharonshrimp/test/blob/master/cc_fraud.ipynb\" target=\"_parent\"><img src=\"https://colab.research.google.com/assets/colab-badge.svg\" alt=\"Open In Colab\"/></a>"
      ]
    },
    {
      "cell_type": "markdown",
      "metadata": {
        "id": "P1-0cLFnWHEE"
      },
      "source": [
        "欄位說明: https://drive.google.com/file/d/1KkCpMfhFfGfmKehMGD6bIr5Ku-eovlCr/view?usp=sharing\n",
        "\n",
        "\n",
        "訓練資料集: https://drive.google.com/file/d/1tPGKaWCtoP4UosSUf8j_RPuTIQwDEaJh/view?usp=sharing"
      ]
    },
    {
      "cell_type": "markdown",
      "metadata": {
        "id": "7rYyLItOld7y"
      },
      "source": [
        "# Step1 匯入所需套件與資料"
      ]
    },
    {
      "cell_type": "code",
      "metadata": {
        "id": "gYR-d_Ujld7z"
      },
      "source": [
        "import pandas as pd\n",
        "import numpy as np\n",
        "import seaborn as sns\n",
        "import matplotlib.pyplot as plt\n",
        "from datetime import datetime\n",
        "from sklearn.preprocessing import LabelEncoder\n",
        "import lightgbm as lgb\n",
        "from sklearn.metrics import recall_score, precision_score, precision_recall_curve\n",
        "from sklearn.model_selection import train_test_split"
      ],
      "execution_count": null,
      "outputs": []
    },
    {
      "cell_type": "code",
      "metadata": {
        "scrolled": true,
        "id": "KUDhnff8ld7z",
        "colab": {
          "base_uri": "https://localhost:8080/",
          "height": 411
        },
        "outputId": "35025f69-5dae-442f-8242-98e7124aa590"
      },
      "source": [
        "#匯入資料\n",
        "train_data = pd.read_csv('/content/train.csv')\n",
        "test_data = \"先不給你們\"\n",
        "\n",
        "#查看資料筆數\n",
        "print(\"shape of train data:\" , train_data.shape)\n",
        "#print(\"shape of test data:\" , test_data.shape)\n",
        "\n",
        "#查看表格前五筆資料\n",
        "train_data.head(5)"
      ],
      "execution_count": null,
      "outputs": [
        {
          "output_type": "stream",
          "text": [
            "shape of train data: (533202, 59)\n"
          ],
          "name": "stdout"
        },
        {
          "output_type": "execute_result",
          "data": {
            "text/html": [
              "<div>\n",
              "<style scoped>\n",
              "    .dataframe tbody tr th:only-of-type {\n",
              "        vertical-align: middle;\n",
              "    }\n",
              "\n",
              "    .dataframe tbody tr th {\n",
              "        vertical-align: top;\n",
              "    }\n",
              "\n",
              "    .dataframe thead th {\n",
              "        text-align: right;\n",
              "    }\n",
              "</style>\n",
              "<table border=\"1\" class=\"dataframe\">\n",
              "  <thead>\n",
              "    <tr style=\"text-align: right;\">\n",
              "      <th></th>\n",
              "      <th>TXKEY</th>\n",
              "      <th>DATETIME</th>\n",
              "      <th>CHID</th>\n",
              "      <th>CANO</th>\n",
              "      <th>MCHNO</th>\n",
              "      <th>ACQIC</th>\n",
              "      <th>MCC</th>\n",
              "      <th>CONTP</th>\n",
              "      <th>ETYMD</th>\n",
              "      <th>ECFG</th>\n",
              "      <th>INSFG</th>\n",
              "      <th>ITERM</th>\n",
              "      <th>BNSFG</th>\n",
              "      <th>BNSPT</th>\n",
              "      <th>FLAM1</th>\n",
              "      <th>STOCN</th>\n",
              "      <th>SCITY</th>\n",
              "      <th>OVRLT</th>\n",
              "      <th>PAY_TYPE</th>\n",
              "      <th>FALLBACK_IND</th>\n",
              "      <th>AGNO</th>\n",
              "      <th>CATP1</th>\n",
              "      <th>CUORG</th>\n",
              "      <th>FEEFG</th>\n",
              "      <th>FEDFG</th>\n",
              "      <th>CATP2</th>\n",
              "      <th>TSCFG</th>\n",
              "      <th>LSCFG</th>\n",
              "      <th>CGDCT</th>\n",
              "      <th>APPFG</th>\n",
              "      <th>SAMFG</th>\n",
              "      <th>ANDFG</th>\n",
              "      <th>AGE</th>\n",
              "      <th>CC_CUST_LEVEL</th>\n",
              "      <th>CC_VINTAGE</th>\n",
              "      <th>EDU_CODE</th>\n",
              "      <th>GENDER_CODE</th>\n",
              "      <th>INCOME_RANGE_CODE</th>\n",
              "      <th>MARITAL_STATUS_CODE</th>\n",
              "      <th>NATION_CODE</th>\n",
              "      <th>OCUP_CODE</th>\n",
              "      <th>POSITION_CODE</th>\n",
              "      <th>ACCT_VINTAGE</th>\n",
              "      <th>AVAILABLE_LIMIT_AMT</th>\n",
              "      <th>BONUS_POINTS</th>\n",
              "      <th>CC_PAY_LEVEL_CODE</th>\n",
              "      <th>CREDIT_LIMIT_AMT</th>\n",
              "      <th>CREDIT_REVOLVING_RATE</th>\n",
              "      <th>CREDIT_USE_RATE</th>\n",
              "      <th>CURRENT_CASH_ADV_AMT</th>\n",
              "      <th>CURRENT_FEE</th>\n",
              "      <th>CURRENT_INSTALLMENT_BAL</th>\n",
              "      <th>CURRENT_INSTALLMENT_PURCH_AMT</th>\n",
              "      <th>CURRENT_PURCH_AMT</th>\n",
              "      <th>CURRENT_VIO_AMT</th>\n",
              "      <th>LST_CYCLE_UNPAID_BAL</th>\n",
              "      <th>REVOLVING_AMT</th>\n",
              "      <th>REVOLVING_INTEREST</th>\n",
              "      <th>FRAUD_IND</th>\n",
              "    </tr>\n",
              "  </thead>\n",
              "  <tbody>\n",
              "    <tr>\n",
              "      <th>0</th>\n",
              "      <td>VS0I00120180203AAHPH</td>\n",
              "      <td>2018-02-03 13:52:42</td>\n",
              "      <td>200473230340339563354509</td>\n",
              "      <td>4196756000001</td>\n",
              "      <td>498750000002171</td>\n",
              "      <td>498750</td>\n",
              "      <td>4121</td>\n",
              "      <td>IP</td>\n",
              "      <td>01</td>\n",
              "      <td>1</td>\n",
              "      <td>0</td>\n",
              "      <td>0</td>\n",
              "      <td>0</td>\n",
              "      <td>0</td>\n",
              "      <td>1082.01</td>\n",
              "      <td>nl</td>\n",
              "      <td>help.uber.com</td>\n",
              "      <td>0</td>\n",
              "      <td>NaN</td>\n",
              "      <td>0</td>\n",
              "      <td>0032</td>\n",
              "      <td>VS</td>\n",
              "      <td>F3</td>\n",
              "      <td>0</td>\n",
              "      <td>0</td>\n",
              "      <td>0.0</td>\n",
              "      <td>Y</td>\n",
              "      <td>0</td>\n",
              "      <td>0.0</td>\n",
              "      <td>0</td>\n",
              "      <td>0</td>\n",
              "      <td>0</td>\n",
              "      <td>62.0</td>\n",
              "      <td>B</td>\n",
              "      <td>54.0</td>\n",
              "      <td>5.0</td>\n",
              "      <td>0</td>\n",
              "      <td>1.0</td>\n",
              "      <td>1.0</td>\n",
              "      <td>1.0</td>\n",
              "      <td>11.0</td>\n",
              "      <td>5.0</td>\n",
              "      <td>49.0</td>\n",
              "      <td>385662.0</td>\n",
              "      <td>0.0</td>\n",
              "      <td>1.0</td>\n",
              "      <td>400000.0</td>\n",
              "      <td>0.0</td>\n",
              "      <td>0.0358</td>\n",
              "      <td>0.0</td>\n",
              "      <td>0.0</td>\n",
              "      <td>0.0</td>\n",
              "      <td>0.0</td>\n",
              "      <td>11922.0</td>\n",
              "      <td>0.0</td>\n",
              "      <td>0.0</td>\n",
              "      <td>0.0</td>\n",
              "      <td>0.0</td>\n",
              "      <td>1</td>\n",
              "    </tr>\n",
              "    <tr>\n",
              "      <th>1</th>\n",
              "      <td>VS0I00120180203AAHPJ</td>\n",
              "      <td>2018-02-03 13:52:45</td>\n",
              "      <td>200473230340339563354509</td>\n",
              "      <td>4196756000001</td>\n",
              "      <td>498750000002171</td>\n",
              "      <td>498750</td>\n",
              "      <td>4121</td>\n",
              "      <td>IP</td>\n",
              "      <td>01</td>\n",
              "      <td>1</td>\n",
              "      <td>0</td>\n",
              "      <td>0</td>\n",
              "      <td>0</td>\n",
              "      <td>0</td>\n",
              "      <td>2725.35</td>\n",
              "      <td>nl</td>\n",
              "      <td>help.uber.com</td>\n",
              "      <td>0</td>\n",
              "      <td>NaN</td>\n",
              "      <td>0</td>\n",
              "      <td>0032</td>\n",
              "      <td>VS</td>\n",
              "      <td>F3</td>\n",
              "      <td>0</td>\n",
              "      <td>0</td>\n",
              "      <td>0.0</td>\n",
              "      <td>Y</td>\n",
              "      <td>0</td>\n",
              "      <td>0.0</td>\n",
              "      <td>0</td>\n",
              "      <td>0</td>\n",
              "      <td>0</td>\n",
              "      <td>62.0</td>\n",
              "      <td>B</td>\n",
              "      <td>54.0</td>\n",
              "      <td>5.0</td>\n",
              "      <td>0</td>\n",
              "      <td>1.0</td>\n",
              "      <td>1.0</td>\n",
              "      <td>1.0</td>\n",
              "      <td>11.0</td>\n",
              "      <td>5.0</td>\n",
              "      <td>49.0</td>\n",
              "      <td>385662.0</td>\n",
              "      <td>0.0</td>\n",
              "      <td>1.0</td>\n",
              "      <td>400000.0</td>\n",
              "      <td>0.0</td>\n",
              "      <td>0.0358</td>\n",
              "      <td>0.0</td>\n",
              "      <td>0.0</td>\n",
              "      <td>0.0</td>\n",
              "      <td>0.0</td>\n",
              "      <td>11922.0</td>\n",
              "      <td>0.0</td>\n",
              "      <td>0.0</td>\n",
              "      <td>0.0</td>\n",
              "      <td>0.0</td>\n",
              "      <td>1</td>\n",
              "    </tr>\n",
              "    <tr>\n",
              "      <th>2</th>\n",
              "      <td>VS0I00120180203AAHRO</td>\n",
              "      <td>2018-02-03 13:56:30</td>\n",
              "      <td>200473230340339563354509</td>\n",
              "      <td>4196756000001</td>\n",
              "      <td>498750000002171</td>\n",
              "      <td>498750</td>\n",
              "      <td>4121</td>\n",
              "      <td>IP</td>\n",
              "      <td>01</td>\n",
              "      <td>1</td>\n",
              "      <td>0</td>\n",
              "      <td>0</td>\n",
              "      <td>0</td>\n",
              "      <td>0</td>\n",
              "      <td>418.38</td>\n",
              "      <td>nl</td>\n",
              "      <td>help.uber.com</td>\n",
              "      <td>0</td>\n",
              "      <td>NaN</td>\n",
              "      <td>0</td>\n",
              "      <td>0032</td>\n",
              "      <td>VS</td>\n",
              "      <td>F3</td>\n",
              "      <td>0</td>\n",
              "      <td>0</td>\n",
              "      <td>0.0</td>\n",
              "      <td>Y</td>\n",
              "      <td>0</td>\n",
              "      <td>0.0</td>\n",
              "      <td>0</td>\n",
              "      <td>0</td>\n",
              "      <td>0</td>\n",
              "      <td>62.0</td>\n",
              "      <td>B</td>\n",
              "      <td>54.0</td>\n",
              "      <td>5.0</td>\n",
              "      <td>0</td>\n",
              "      <td>1.0</td>\n",
              "      <td>1.0</td>\n",
              "      <td>1.0</td>\n",
              "      <td>11.0</td>\n",
              "      <td>5.0</td>\n",
              "      <td>49.0</td>\n",
              "      <td>385662.0</td>\n",
              "      <td>0.0</td>\n",
              "      <td>1.0</td>\n",
              "      <td>400000.0</td>\n",
              "      <td>0.0</td>\n",
              "      <td>0.0358</td>\n",
              "      <td>0.0</td>\n",
              "      <td>0.0</td>\n",
              "      <td>0.0</td>\n",
              "      <td>0.0</td>\n",
              "      <td>11922.0</td>\n",
              "      <td>0.0</td>\n",
              "      <td>0.0</td>\n",
              "      <td>0.0</td>\n",
              "      <td>0.0</td>\n",
              "      <td>1</td>\n",
              "    </tr>\n",
              "    <tr>\n",
              "      <th>3</th>\n",
              "      <td>NC0101020170723AAAI7</td>\n",
              "      <td>2017-07-23 02:05:32</td>\n",
              "      <td>900553230371239763056151</td>\n",
              "      <td>3219169000003</td>\n",
              "      <td>8221330004552</td>\n",
              "      <td>429339</td>\n",
              "      <td>5816</td>\n",
              "      <td>IP</td>\n",
              "      <td>01</td>\n",
              "      <td>1</td>\n",
              "      <td>0</td>\n",
              "      <td>0</td>\n",
              "      <td>0</td>\n",
              "      <td>0</td>\n",
              "      <td>239.00</td>\n",
              "      <td>tw</td>\n",
              "      <td></td>\n",
              "      <td>0</td>\n",
              "      <td>NaN</td>\n",
              "      <td>0</td>\n",
              "      <td>0085</td>\n",
              "      <td>VS</td>\n",
              "      <td>F3</td>\n",
              "      <td>0</td>\n",
              "      <td>0</td>\n",
              "      <td>0.0</td>\n",
              "      <td>Y</td>\n",
              "      <td>0</td>\n",
              "      <td>0.0</td>\n",
              "      <td>0</td>\n",
              "      <td>0</td>\n",
              "      <td>0</td>\n",
              "      <td>41.0</td>\n",
              "      <td>B</td>\n",
              "      <td>85.0</td>\n",
              "      <td>5.0</td>\n",
              "      <td>0</td>\n",
              "      <td>2.0</td>\n",
              "      <td>1.0</td>\n",
              "      <td>1.0</td>\n",
              "      <td>14.0</td>\n",
              "      <td>NaN</td>\n",
              "      <td>73.0</td>\n",
              "      <td>98901.0</td>\n",
              "      <td>13711.0</td>\n",
              "      <td>1.0</td>\n",
              "      <td>250000.0</td>\n",
              "      <td>0.0</td>\n",
              "      <td>0.6044</td>\n",
              "      <td>0.0</td>\n",
              "      <td>669.0</td>\n",
              "      <td>82190.0</td>\n",
              "      <td>14814.0</td>\n",
              "      <td>65631.0</td>\n",
              "      <td>0.0</td>\n",
              "      <td>0.0</td>\n",
              "      <td>0.0</td>\n",
              "      <td>0.0</td>\n",
              "      <td>1</td>\n",
              "    </tr>\n",
              "    <tr>\n",
              "      <th>4</th>\n",
              "      <td>NC0100620170823AAAHS</td>\n",
              "      <td>2017-08-23 02:07:28</td>\n",
              "      <td>900553230371239763056151</td>\n",
              "      <td>3219169000003</td>\n",
              "      <td>8221330004552</td>\n",
              "      <td>429339</td>\n",
              "      <td>5816</td>\n",
              "      <td>IP</td>\n",
              "      <td>01</td>\n",
              "      <td>1</td>\n",
              "      <td>0</td>\n",
              "      <td>0</td>\n",
              "      <td>0</td>\n",
              "      <td>0</td>\n",
              "      <td>239.00</td>\n",
              "      <td>tw</td>\n",
              "      <td></td>\n",
              "      <td>0</td>\n",
              "      <td>NaN</td>\n",
              "      <td>0</td>\n",
              "      <td>0085</td>\n",
              "      <td>VS</td>\n",
              "      <td>F3</td>\n",
              "      <td>0</td>\n",
              "      <td>0</td>\n",
              "      <td>0.0</td>\n",
              "      <td>Y</td>\n",
              "      <td>0</td>\n",
              "      <td>0.0</td>\n",
              "      <td>0</td>\n",
              "      <td>0</td>\n",
              "      <td>0</td>\n",
              "      <td>41.0</td>\n",
              "      <td>B</td>\n",
              "      <td>85.0</td>\n",
              "      <td>5.0</td>\n",
              "      <td>0</td>\n",
              "      <td>2.0</td>\n",
              "      <td>1.0</td>\n",
              "      <td>1.0</td>\n",
              "      <td>14.0</td>\n",
              "      <td>NaN</td>\n",
              "      <td>74.0</td>\n",
              "      <td>117241.0</td>\n",
              "      <td>13920.0</td>\n",
              "      <td>1.0</td>\n",
              "      <td>250000.0</td>\n",
              "      <td>0.0</td>\n",
              "      <td>0.5310</td>\n",
              "      <td>0.0</td>\n",
              "      <td>37.0</td>\n",
              "      <td>101607.0</td>\n",
              "      <td>19697.0</td>\n",
              "      <td>29658.0</td>\n",
              "      <td>0.0</td>\n",
              "      <td>0.0</td>\n",
              "      <td>0.0</td>\n",
              "      <td>0.0</td>\n",
              "      <td>1</td>\n",
              "    </tr>\n",
              "  </tbody>\n",
              "</table>\n",
              "</div>"
            ],
            "text/plain": [
              "                  TXKEY             DATETIME  ... REVOLVING_INTEREST  FRAUD_IND\n",
              "0  VS0I00120180203AAHPH  2018-02-03 13:52:42  ...                0.0          1\n",
              "1  VS0I00120180203AAHPJ  2018-02-03 13:52:45  ...                0.0          1\n",
              "2  VS0I00120180203AAHRO  2018-02-03 13:56:30  ...                0.0          1\n",
              "3  NC0101020170723AAAI7  2017-07-23 02:05:32  ...                0.0          1\n",
              "4  NC0100620170823AAAHS  2017-08-23 02:07:28  ...                0.0          1\n",
              "\n",
              "[5 rows x 59 columns]"
            ]
          },
          "metadata": {
            "tags": []
          },
          "execution_count": 44
        }
      ]
    },
    {
      "cell_type": "code",
      "metadata": {
        "id": "zgd_S6QPld71",
        "colab": {
          "base_uri": "https://localhost:8080/"
        },
        "outputId": "563cff76-9527-4638-f674-8e5655a52389"
      },
      "source": [
        "train_data.FRAUD_IND.value_counts()"
      ],
      "execution_count": null,
      "outputs": [
        {
          "output_type": "execute_result",
          "data": {
            "text/plain": [
              "1.0    49872\n",
              "Name: FRAUD_IND, dtype: int64"
            ]
          },
          "metadata": {
            "tags": []
          },
          "execution_count": 9
        }
      ]
    },
    {
      "cell_type": "markdown",
      "metadata": {
        "id": "pe5a7eJxld71"
      },
      "source": [
        "# Step2 EDA (Exploratory Data Analysis)\n",
        "- 統計數據\n",
        "- 資料視覺化"
      ]
    },
    {
      "cell_type": "markdown",
      "metadata": {
        "id": "Xw7mwna-ld71"
      },
      "source": [
        "## 2-1 統計數據"
      ]
    },
    {
      "cell_type": "code",
      "metadata": {
        "scrolled": false,
        "id": "eMtEu4m8ld71",
        "colab": {
          "base_uri": "https://localhost:8080/",
          "height": 317
        },
        "outputId": "3a65cadf-4493-4cc2-db75-fb71f6a513d6"
      },
      "source": [
        "#查看基礎統計數據\n",
        "train_data.describe()"
      ],
      "execution_count": null,
      "outputs": [
        {
          "output_type": "execute_result",
          "data": {
            "text/html": [
              "<div>\n",
              "<style scoped>\n",
              "    .dataframe tbody tr th:only-of-type {\n",
              "        vertical-align: middle;\n",
              "    }\n",
              "\n",
              "    .dataframe tbody tr th {\n",
              "        vertical-align: top;\n",
              "    }\n",
              "\n",
              "    .dataframe thead th {\n",
              "        text-align: right;\n",
              "    }\n",
              "</style>\n",
              "<table border=\"1\" class=\"dataframe\">\n",
              "  <thead>\n",
              "    <tr style=\"text-align: right;\">\n",
              "      <th></th>\n",
              "      <th>CANO</th>\n",
              "      <th>ECFG</th>\n",
              "      <th>INSFG</th>\n",
              "      <th>ITERM</th>\n",
              "      <th>BNSFG</th>\n",
              "      <th>BNSPT</th>\n",
              "      <th>FLAM1</th>\n",
              "      <th>OVRLT</th>\n",
              "      <th>FALLBACK_IND</th>\n",
              "      <th>FEEFG</th>\n",
              "      <th>FEDFG</th>\n",
              "      <th>CATP2</th>\n",
              "      <th>LSCFG</th>\n",
              "      <th>CGDCT</th>\n",
              "      <th>APPFG</th>\n",
              "      <th>SAMFG</th>\n",
              "      <th>ANDFG</th>\n",
              "      <th>AGE</th>\n",
              "      <th>CC_VINTAGE</th>\n",
              "      <th>EDU_CODE</th>\n",
              "      <th>GENDER_CODE</th>\n",
              "      <th>INCOME_RANGE_CODE</th>\n",
              "      <th>MARITAL_STATUS_CODE</th>\n",
              "      <th>NATION_CODE</th>\n",
              "      <th>OCUP_CODE</th>\n",
              "      <th>POSITION_CODE</th>\n",
              "      <th>ACCT_VINTAGE</th>\n",
              "      <th>AVAILABLE_LIMIT_AMT</th>\n",
              "      <th>BONUS_POINTS</th>\n",
              "      <th>CC_PAY_LEVEL_CODE</th>\n",
              "      <th>CREDIT_LIMIT_AMT</th>\n",
              "      <th>CREDIT_REVOLVING_RATE</th>\n",
              "      <th>CREDIT_USE_RATE</th>\n",
              "      <th>CURRENT_CASH_ADV_AMT</th>\n",
              "      <th>CURRENT_FEE</th>\n",
              "      <th>CURRENT_INSTALLMENT_BAL</th>\n",
              "      <th>CURRENT_INSTALLMENT_PURCH_AMT</th>\n",
              "      <th>CURRENT_PURCH_AMT</th>\n",
              "      <th>CURRENT_VIO_AMT</th>\n",
              "      <th>LST_CYCLE_UNPAID_BAL</th>\n",
              "      <th>REVOLVING_AMT</th>\n",
              "      <th>REVOLVING_INTEREST</th>\n",
              "      <th>FRAUD_IND</th>\n",
              "    </tr>\n",
              "  </thead>\n",
              "  <tbody>\n",
              "    <tr>\n",
              "      <th>count</th>\n",
              "      <td>5.332020e+05</td>\n",
              "      <td>533202.000000</td>\n",
              "      <td>533202.000000</td>\n",
              "      <td>533202.000000</td>\n",
              "      <td>533202.000000</td>\n",
              "      <td>533202.000000</td>\n",
              "      <td>5.332020e+05</td>\n",
              "      <td>533202.000000</td>\n",
              "      <td>533202.000000</td>\n",
              "      <td>533202.000000</td>\n",
              "      <td>533202.000000</td>\n",
              "      <td>533202.000000</td>\n",
              "      <td>533202.000000</td>\n",
              "      <td>533202.000000</td>\n",
              "      <td>533202.000000</td>\n",
              "      <td>533202.000000</td>\n",
              "      <td>533202.000000</td>\n",
              "      <td>533202.000000</td>\n",
              "      <td>533202.000000</td>\n",
              "      <td>533202.000000</td>\n",
              "      <td>533202.000000</td>\n",
              "      <td>533202.000000</td>\n",
              "      <td>533202.000000</td>\n",
              "      <td>533202.000000</td>\n",
              "      <td>533202.000000</td>\n",
              "      <td>494347.000000</td>\n",
              "      <td>460418.000000</td>\n",
              "      <td>4.604180e+05</td>\n",
              "      <td>4.604180e+05</td>\n",
              "      <td>460329.000000</td>\n",
              "      <td>4.604180e+05</td>\n",
              "      <td>460418.000000</td>\n",
              "      <td>460418.000000</td>\n",
              "      <td>460418.000000</td>\n",
              "      <td>460418.000000</td>\n",
              "      <td>4.604180e+05</td>\n",
              "      <td>460418.000000</td>\n",
              "      <td>4.604180e+05</td>\n",
              "      <td>460418.000000</td>\n",
              "      <td>4.604180e+05</td>\n",
              "      <td>4.604180e+05</td>\n",
              "      <td>460418.000000</td>\n",
              "      <td>533202.000000</td>\n",
              "    </tr>\n",
              "    <tr>\n",
              "      <th>mean</th>\n",
              "      <td>2.934265e+12</td>\n",
              "      <td>0.320156</td>\n",
              "      <td>0.023985</td>\n",
              "      <td>0.132406</td>\n",
              "      <td>0.002264</td>\n",
              "      <td>9.671194</td>\n",
              "      <td>2.948112e+03</td>\n",
              "      <td>0.015467</td>\n",
              "      <td>0.004304</td>\n",
              "      <td>0.283808</td>\n",
              "      <td>0.273274</td>\n",
              "      <td>0.061609</td>\n",
              "      <td>0.099079</td>\n",
              "      <td>0.291287</td>\n",
              "      <td>0.103743</td>\n",
              "      <td>0.009595</td>\n",
              "      <td>0.011770</td>\n",
              "      <td>42.259781</td>\n",
              "      <td>112.532414</td>\n",
              "      <td>3.646811</td>\n",
              "      <td>0.467601</td>\n",
              "      <td>1.221171</td>\n",
              "      <td>1.466073</td>\n",
              "      <td>1.001769</td>\n",
              "      <td>10.661346</td>\n",
              "      <td>4.122137</td>\n",
              "      <td>104.158508</td>\n",
              "      <td>1.538994e+05</td>\n",
              "      <td>9.584240e+03</td>\n",
              "      <td>1.250482</td>\n",
              "      <td>2.075423e+05</td>\n",
              "      <td>0.062197</td>\n",
              "      <td>0.276902</td>\n",
              "      <td>131.526606</td>\n",
              "      <td>66.478219</td>\n",
              "      <td>1.298490e+04</td>\n",
              "      <td>3791.029095</td>\n",
              "      <td>3.048889e+04</td>\n",
              "      <td>6.165050</td>\n",
              "      <td>7.014881e+03</td>\n",
              "      <td>8.188252e+03</td>\n",
              "      <td>77.670375</td>\n",
              "      <td>0.143887</td>\n",
              "    </tr>\n",
              "    <tr>\n",
              "      <th>std</th>\n",
              "      <td>1.528068e+12</td>\n",
              "      <td>0.466537</td>\n",
              "      <td>0.153003</td>\n",
              "      <td>1.078239</td>\n",
              "      <td>0.047524</td>\n",
              "      <td>888.868698</td>\n",
              "      <td>3.726769e+04</td>\n",
              "      <td>0.123401</td>\n",
              "      <td>0.065465</td>\n",
              "      <td>0.450845</td>\n",
              "      <td>0.445641</td>\n",
              "      <td>0.240444</td>\n",
              "      <td>0.298768</td>\n",
              "      <td>0.569603</td>\n",
              "      <td>0.304927</td>\n",
              "      <td>0.097482</td>\n",
              "      <td>0.107851</td>\n",
              "      <td>10.857415</td>\n",
              "      <td>70.554834</td>\n",
              "      <td>1.206994</td>\n",
              "      <td>0.498950</td>\n",
              "      <td>0.556810</td>\n",
              "      <td>0.500357</td>\n",
              "      <td>0.042017</td>\n",
              "      <td>4.351953</td>\n",
              "      <td>0.922314</td>\n",
              "      <td>70.306938</td>\n",
              "      <td>2.062900e+05</td>\n",
              "      <td>6.530764e+04</td>\n",
              "      <td>0.836664</td>\n",
              "      <td>2.742765e+05</td>\n",
              "      <td>0.191539</td>\n",
              "      <td>0.418543</td>\n",
              "      <td>5036.094475</td>\n",
              "      <td>492.388878</td>\n",
              "      <td>6.349415e+04</td>\n",
              "      <td>14859.931822</td>\n",
              "      <td>1.916603e+05</td>\n",
              "      <td>45.470686</td>\n",
              "      <td>4.568315e+04</td>\n",
              "      <td>7.689639e+04</td>\n",
              "      <td>334.251608</td>\n",
              "      <td>0.350976</td>\n",
              "    </tr>\n",
              "    <tr>\n",
              "      <th>min</th>\n",
              "      <td>4.030000e+08</td>\n",
              "      <td>0.000000</td>\n",
              "      <td>0.000000</td>\n",
              "      <td>0.000000</td>\n",
              "      <td>0.000000</td>\n",
              "      <td>0.000000</td>\n",
              "      <td>0.000000e+00</td>\n",
              "      <td>0.000000</td>\n",
              "      <td>0.000000</td>\n",
              "      <td>0.000000</td>\n",
              "      <td>0.000000</td>\n",
              "      <td>0.000000</td>\n",
              "      <td>0.000000</td>\n",
              "      <td>0.000000</td>\n",
              "      <td>0.000000</td>\n",
              "      <td>0.000000</td>\n",
              "      <td>0.000000</td>\n",
              "      <td>15.000000</td>\n",
              "      <td>4.000000</td>\n",
              "      <td>1.000000</td>\n",
              "      <td>0.000000</td>\n",
              "      <td>1.000000</td>\n",
              "      <td>1.000000</td>\n",
              "      <td>1.000000</td>\n",
              "      <td>1.000000</td>\n",
              "      <td>2.000000</td>\n",
              "      <td>0.000000</td>\n",
              "      <td>-1.054640e+07</td>\n",
              "      <td>-3.025000e+04</td>\n",
              "      <td>0.000000</td>\n",
              "      <td>0.000000e+00</td>\n",
              "      <td>0.000000</td>\n",
              "      <td>0.000000</td>\n",
              "      <td>-260000.000000</td>\n",
              "      <td>-2252.000000</td>\n",
              "      <td>0.000000e+00</td>\n",
              "      <td>-64284.000000</td>\n",
              "      <td>-2.986956e+06</td>\n",
              "      <td>0.000000</td>\n",
              "      <td>-1.174410e+05</td>\n",
              "      <td>0.000000e+00</td>\n",
              "      <td>0.000000</td>\n",
              "      <td>0.000000</td>\n",
              "    </tr>\n",
              "    <tr>\n",
              "      <th>25%</th>\n",
              "      <td>1.626222e+12</td>\n",
              "      <td>0.000000</td>\n",
              "      <td>0.000000</td>\n",
              "      <td>0.000000</td>\n",
              "      <td>0.000000</td>\n",
              "      <td>0.000000</td>\n",
              "      <td>3.000000e+02</td>\n",
              "      <td>0.000000</td>\n",
              "      <td>0.000000</td>\n",
              "      <td>0.000000</td>\n",
              "      <td>0.000000</td>\n",
              "      <td>0.000000</td>\n",
              "      <td>0.000000</td>\n",
              "      <td>0.000000</td>\n",
              "      <td>0.000000</td>\n",
              "      <td>0.000000</td>\n",
              "      <td>0.000000</td>\n",
              "      <td>34.000000</td>\n",
              "      <td>54.000000</td>\n",
              "      <td>3.000000</td>\n",
              "      <td>0.000000</td>\n",
              "      <td>1.000000</td>\n",
              "      <td>1.000000</td>\n",
              "      <td>1.000000</td>\n",
              "      <td>7.000000</td>\n",
              "      <td>4.000000</td>\n",
              "      <td>45.000000</td>\n",
              "      <td>5.455400e+04</td>\n",
              "      <td>0.000000e+00</td>\n",
              "      <td>1.000000</td>\n",
              "      <td>1.000000e+05</td>\n",
              "      <td>0.000000</td>\n",
              "      <td>0.047200</td>\n",
              "      <td>0.000000</td>\n",
              "      <td>0.000000</td>\n",
              "      <td>0.000000e+00</td>\n",
              "      <td>0.000000</td>\n",
              "      <td>4.337000e+03</td>\n",
              "      <td>0.000000</td>\n",
              "      <td>0.000000e+00</td>\n",
              "      <td>0.000000e+00</td>\n",
              "      <td>0.000000</td>\n",
              "      <td>0.000000</td>\n",
              "    </tr>\n",
              "    <tr>\n",
              "      <th>50%</th>\n",
              "      <td>3.239301e+12</td>\n",
              "      <td>0.000000</td>\n",
              "      <td>0.000000</td>\n",
              "      <td>0.000000</td>\n",
              "      <td>0.000000</td>\n",
              "      <td>0.000000</td>\n",
              "      <td>6.600000e+02</td>\n",
              "      <td>0.000000</td>\n",
              "      <td>0.000000</td>\n",
              "      <td>0.000000</td>\n",
              "      <td>0.000000</td>\n",
              "      <td>0.000000</td>\n",
              "      <td>0.000000</td>\n",
              "      <td>0.000000</td>\n",
              "      <td>0.000000</td>\n",
              "      <td>0.000000</td>\n",
              "      <td>0.000000</td>\n",
              "      <td>41.000000</td>\n",
              "      <td>92.000000</td>\n",
              "      <td>3.000000</td>\n",
              "      <td>0.000000</td>\n",
              "      <td>1.000000</td>\n",
              "      <td>1.000000</td>\n",
              "      <td>1.000000</td>\n",
              "      <td>11.000000</td>\n",
              "      <td>4.000000</td>\n",
              "      <td>85.000000</td>\n",
              "      <td>1.143680e+05</td>\n",
              "      <td>5.000000e+02</td>\n",
              "      <td>1.000000</td>\n",
              "      <td>1.500000e+05</td>\n",
              "      <td>0.000000</td>\n",
              "      <td>0.151800</td>\n",
              "      <td>0.000000</td>\n",
              "      <td>0.000000</td>\n",
              "      <td>0.000000e+00</td>\n",
              "      <td>0.000000</td>\n",
              "      <td>1.091400e+04</td>\n",
              "      <td>0.000000</td>\n",
              "      <td>0.000000e+00</td>\n",
              "      <td>0.000000e+00</td>\n",
              "      <td>0.000000</td>\n",
              "      <td>0.000000</td>\n",
              "    </tr>\n",
              "    <tr>\n",
              "      <th>75%</th>\n",
              "      <td>4.180966e+12</td>\n",
              "      <td>1.000000</td>\n",
              "      <td>0.000000</td>\n",
              "      <td>0.000000</td>\n",
              "      <td>0.000000</td>\n",
              "      <td>0.000000</td>\n",
              "      <td>1.610000e+03</td>\n",
              "      <td>0.000000</td>\n",
              "      <td>0.000000</td>\n",
              "      <td>1.000000</td>\n",
              "      <td>1.000000</td>\n",
              "      <td>0.000000</td>\n",
              "      <td>0.000000</td>\n",
              "      <td>0.000000</td>\n",
              "      <td>0.000000</td>\n",
              "      <td>0.000000</td>\n",
              "      <td>0.000000</td>\n",
              "      <td>49.000000</td>\n",
              "      <td>178.000000</td>\n",
              "      <td>5.000000</td>\n",
              "      <td>1.000000</td>\n",
              "      <td>1.000000</td>\n",
              "      <td>2.000000</td>\n",
              "      <td>1.000000</td>\n",
              "      <td>15.000000</td>\n",
              "      <td>5.000000</td>\n",
              "      <td>169.000000</td>\n",
              "      <td>1.957130e+05</td>\n",
              "      <td>3.808000e+03</td>\n",
              "      <td>1.000000</td>\n",
              "      <td>2.500000e+05</td>\n",
              "      <td>0.000000</td>\n",
              "      <td>0.419100</td>\n",
              "      <td>0.000000</td>\n",
              "      <td>2.000000</td>\n",
              "      <td>8.996000e+03</td>\n",
              "      <td>3133.000000</td>\n",
              "      <td>2.509100e+04</td>\n",
              "      <td>0.000000</td>\n",
              "      <td>0.000000e+00</td>\n",
              "      <td>0.000000e+00</td>\n",
              "      <td>0.000000</td>\n",
              "      <td>0.000000</td>\n",
              "    </tr>\n",
              "    <tr>\n",
              "      <th>max</th>\n",
              "      <td>5.682977e+12</td>\n",
              "      <td>1.000000</td>\n",
              "      <td>1.000000</td>\n",
              "      <td>30.000000</td>\n",
              "      <td>1.000000</td>\n",
              "      <td>515000.000000</td>\n",
              "      <td>1.200000e+07</td>\n",
              "      <td>1.000000</td>\n",
              "      <td>1.000000</td>\n",
              "      <td>1.000000</td>\n",
              "      <td>1.000000</td>\n",
              "      <td>1.000000</td>\n",
              "      <td>1.000000</td>\n",
              "      <td>4.000000</td>\n",
              "      <td>1.000000</td>\n",
              "      <td>1.000000</td>\n",
              "      <td>1.000000</td>\n",
              "      <td>91.000000</td>\n",
              "      <td>302.000000</td>\n",
              "      <td>6.000000</td>\n",
              "      <td>1.000000</td>\n",
              "      <td>4.000000</td>\n",
              "      <td>3.000000</td>\n",
              "      <td>2.000000</td>\n",
              "      <td>18.000000</td>\n",
              "      <td>5.000000</td>\n",
              "      <td>297.000000</td>\n",
              "      <td>2.291876e+07</td>\n",
              "      <td>2.462587e+06</td>\n",
              "      <td>6.000000</td>\n",
              "      <td>2.300000e+07</td>\n",
              "      <td>8.187800</td>\n",
              "      <td>99.966600</td>\n",
              "      <td>410000.000000</td>\n",
              "      <td>25337.000000</td>\n",
              "      <td>3.116071e+06</td>\n",
              "      <td>994906.000000</td>\n",
              "      <td>1.223727e+07</td>\n",
              "      <td>500.000000</td>\n",
              "      <td>3.000000e+06</td>\n",
              "      <td>4.865280e+06</td>\n",
              "      <td>15585.000000</td>\n",
              "      <td>1.000000</td>\n",
              "    </tr>\n",
              "  </tbody>\n",
              "</table>\n",
              "</div>"
            ],
            "text/plain": [
              "               CANO           ECFG  ...  REVOLVING_INTEREST      FRAUD_IND\n",
              "count  5.332020e+05  533202.000000  ...       460418.000000  533202.000000\n",
              "mean   2.934265e+12       0.320156  ...           77.670375       0.143887\n",
              "std    1.528068e+12       0.466537  ...          334.251608       0.350976\n",
              "min    4.030000e+08       0.000000  ...            0.000000       0.000000\n",
              "25%    1.626222e+12       0.000000  ...            0.000000       0.000000\n",
              "50%    3.239301e+12       0.000000  ...            0.000000       0.000000\n",
              "75%    4.180966e+12       1.000000  ...            0.000000       0.000000\n",
              "max    5.682977e+12       1.000000  ...        15585.000000       1.000000\n",
              "\n",
              "[8 rows x 43 columns]"
            ]
          },
          "metadata": {
            "tags": []
          },
          "execution_count": 45
        }
      ]
    },
    {
      "cell_type": "code",
      "metadata": {
        "id": "mv4pU4VMld71",
        "colab": {
          "base_uri": "https://localhost:8080/"
        },
        "outputId": "a97007c4-d754-4eab-d28e-6261bc7f3434"
      },
      "source": [
        "#查看各變數空值情況\n",
        "train_data.count().sort_values().head(20)"
      ],
      "execution_count": null,
      "outputs": [
        {
          "output_type": "execute_result",
          "data": {
            "text/plain": [
              "PAY_TYPE                          11863\n",
              "CC_PAY_LEVEL_CODE                460329\n",
              "AVAILABLE_LIMIT_AMT              460418\n",
              "ACCT_VINTAGE                     460418\n",
              "BONUS_POINTS                     460418\n",
              "CREDIT_LIMIT_AMT                 460418\n",
              "CREDIT_REVOLVING_RATE            460418\n",
              "CREDIT_USE_RATE                  460418\n",
              "REVOLVING_INTEREST               460418\n",
              "CURRENT_FEE                      460418\n",
              "CURRENT_INSTALLMENT_BAL          460418\n",
              "CURRENT_INSTALLMENT_PURCH_AMT    460418\n",
              "CURRENT_PURCH_AMT                460418\n",
              "CURRENT_VIO_AMT                  460418\n",
              "LST_CYCLE_UNPAID_BAL             460418\n",
              "REVOLVING_AMT                    460418\n",
              "CURRENT_CASH_ADV_AMT             460418\n",
              "POSITION_CODE                    494347\n",
              "CC_CUST_LEVEL                    510561\n",
              "ANDFG                            533202\n",
              "dtype: int64"
            ]
          },
          "metadata": {
            "tags": []
          },
          "execution_count": 47
        }
      ]
    },
    {
      "cell_type": "code",
      "metadata": {
        "id": "ygOGcsyUld71",
        "colab": {
          "base_uri": "https://localhost:8080/"
        },
        "outputId": "e9c6b1bb-7dff-486a-a64d-bbb51cf86418"
      },
      "source": [
        "#查看網路交易註記(ECFG)的冒用比例\n",
        "train_data.groupby(by='ECFG').mean()['FRAUD_IND']"
      ],
      "execution_count": null,
      "outputs": [
        {
          "output_type": "execute_result",
          "data": {
            "text/plain": [
              "ECFG\n",
              "0    0.032864\n",
              "1    0.379642\n",
              "Name: FRAUD_IND, dtype: float64"
            ]
          },
          "metadata": {
            "tags": []
          },
          "execution_count": 48
        }
      ]
    },
    {
      "cell_type": "code",
      "metadata": {
        "id": "fS5AE9Nmld72",
        "colab": {
          "base_uri": "https://localhost:8080/"
        },
        "outputId": "63c52d85-f1d7-4582-c763-260a68ef3aa2"
      },
      "source": [
        "#查看綁定APPLE PAY註記(APPFG)的冒用比例\n",
        "train_data.groupby(by='APPFG').mean()['FRAUD_IND']"
      ],
      "execution_count": null,
      "outputs": [
        {
          "output_type": "execute_result",
          "data": {
            "text/plain": [
              "APPFG\n",
              "0    0.159498\n",
              "1    0.009021\n",
              "Name: FRAUD_IND, dtype: float64"
            ]
          },
          "metadata": {
            "tags": []
          },
          "execution_count": 49
        }
      ]
    },
    {
      "cell_type": "code",
      "metadata": {
        "id": "erkWhlKtld72",
        "colab": {
          "base_uri": "https://localhost:8080/"
        },
        "outputId": "a0d7779b-e027-4e78-e072-853d45e23969"
      },
      "source": [
        "#查看冒用與非冒用的平均金額\n",
        "train_data.groupby(by='FRAUD_IND').mean()['FLAM1']"
      ],
      "execution_count": null,
      "outputs": [
        {
          "output_type": "execute_result",
          "data": {
            "text/plain": [
              "FRAUD_IND\n",
              "0    2711.539891\n",
              "1    4355.687942\n",
              "Name: FLAM1, dtype: float64"
            ]
          },
          "metadata": {
            "tags": []
          },
          "execution_count": 50
        }
      ]
    },
    {
      "cell_type": "markdown",
      "metadata": {
        "id": "ZE7Mad6Dld72"
      },
      "source": [
        "## 2-2 資料視覺化\n",
        "> 以時間相關Features為例"
      ]
    },
    {
      "cell_type": "code",
      "metadata": {
        "id": "iNwojE-Jld72"
      },
      "source": [
        "#新增星期、小時等 Features\n",
        "train_data[\"DATETIME\"] = train_data[\"DATETIME\"].apply(lambda x: datetime.strptime(x, \"%Y-%m-%d %H:%M:%S\"))\n",
        "train_data[\"WEEKDAY\"] = train_data[\"DATETIME\"].apply(lambda x: x.weekday() + 1)\n",
        "train_data[\"HOUR\"] = train_data[\"DATETIME\"].apply(lambda x: x.hour + 1)"
      ],
      "execution_count": null,
      "outputs": []
    },
    {
      "cell_type": "code",
      "metadata": {
        "id": "mXx89ngMld72",
        "colab": {
          "base_uri": "https://localhost:8080/"
        },
        "outputId": "28d9cee2-7a21-4a6f-af22-fe5001f93170"
      },
      "source": [
        "train_data.groupby(by='WEEKDAY').mean()['FRAUD_IND']"
      ],
      "execution_count": null,
      "outputs": [
        {
          "output_type": "execute_result",
          "data": {
            "text/plain": [
              "WEEKDAY\n",
              "1    0.144677\n",
              "2    0.154192\n",
              "3    0.151276\n",
              "4    0.159564\n",
              "5    0.147093\n",
              "6    0.125916\n",
              "7    0.127090\n",
              "Name: FRAUD_IND, dtype: float64"
            ]
          },
          "metadata": {
            "tags": []
          },
          "execution_count": 52
        }
      ]
    },
    {
      "cell_type": "code",
      "metadata": {
        "id": "BxR_Rc52ld72",
        "colab": {
          "base_uri": "https://localhost:8080/",
          "height": 405
        },
        "outputId": "f71ef924-f81f-4faa-f332-a77e3ba10d79"
      },
      "source": [
        "plt.figure(figsize=(12,6))\n",
        "sns.countplot(x=\"WEEKDAY\", hue=\"FRAUD_IND\", data=train_data)"
      ],
      "execution_count": null,
      "outputs": [
        {
          "output_type": "execute_result",
          "data": {
            "text/plain": [
              "<matplotlib.axes._subplots.AxesSubplot at 0x7f574d029e10>"
            ]
          },
          "metadata": {
            "tags": []
          },
          "execution_count": 53
        },
        {
          "output_type": "display_data",
          "data": {
            "image/png": "[encoded data removed]",
            "text/plain": [
              "<Figure size 864x432 with 1 Axes>"
            ]
          },
          "metadata": {
            "tags": [],
            "needs_background": "light"
          }
        }
      ]
    },
    {
      "cell_type": "code",
      "metadata": {
        "id": "hiUwU6esld72",
        "colab": {
          "base_uri": "https://localhost:8080/"
        },
        "outputId": "a5ac6b90-19e5-4446-cc56-b82a501f81d4"
      },
      "source": [
        "train_data.groupby(by='HOUR').mean()['FRAUD_IND']"
      ],
      "execution_count": null,
      "outputs": [
        {
          "output_type": "execute_result",
          "data": {
            "text/plain": [
              "HOUR\n",
              "1     0.365242\n",
              "2     0.462347\n",
              "3     0.443151\n",
              "4     0.517475\n",
              "5     0.549354\n",
              "6     0.435051\n",
              "7     0.265417\n",
              "8     0.150527\n",
              "9     0.101270\n",
              "10    0.086439\n",
              "11    0.066943\n",
              "12    0.093055\n",
              "13    0.093806\n",
              "14    0.109969\n",
              "15    0.122815\n",
              "16    0.131848\n",
              "17    0.128266\n",
              "18    0.120261\n",
              "19    0.105145\n",
              "20    0.103171\n",
              "21    0.115246\n",
              "22    0.149578\n",
              "23    0.214909\n",
              "24    0.280281\n",
              "Name: FRAUD_IND, dtype: float64"
            ]
          },
          "metadata": {
            "tags": []
          },
          "execution_count": 54
        }
      ]
    },
    {
      "cell_type": "code",
      "metadata": {
        "id": "9fqw8DcXld72",
        "colab": {
          "base_uri": "https://localhost:8080/",
          "height": 405
        },
        "outputId": "e06b7253-df65-47d6-a1d1-bf147e3f15e6"
      },
      "source": [
        "plt.figure(figsize=(12,6))\n",
        "sns.countplot(x=\"HOUR\", hue=\"FRAUD_IND\", data=train_data)"
      ],
      "execution_count": null,
      "outputs": [
        {
          "output_type": "execute_result",
          "data": {
            "text/plain": [
              "<matplotlib.axes._subplots.AxesSubplot at 0x7f5746eb2f60>"
            ]
          },
          "metadata": {
            "tags": []
          },
          "execution_count": 55
        },
        {
          "output_type": "display_data",
          "data": {
            "image/png": "[encoded data removed]",
            "text/plain": [
              "<Figure size 864x432 with 1 Axes>"
            ]
          },
          "metadata": {
            "tags": [],
            "needs_background": "light"
          }
        }
      ]
    },
    {
      "cell_type": "markdown",
      "metadata": {
        "id": "IY8tUoNXld72"
      },
      "source": [
        "延伸閱讀 <br>\n",
        "- [Pyplot語法教學](https://medium.com/@yuhsuan_chou/python-%E5%9F%BA%E7%A4%8E%E8%B3%87%E6%96%99%E8%A6%96%E8%A6%BA%E5%8C%96-matplotlib-401da7d14e04)\n",
        "- [Seaborn語法教學](https://leemeng.tw/seaborn-cheat-sheet.html?fbclid=IwAR20VuGkd36AM2TSSQ_eJ7Ct9mC5RA7Y_v_a-mqdLMgYdZdO4pD_cxn0NCc)"
      ]
    },
    {
      "cell_type": "markdown",
      "metadata": {
        "id": "TTfsx3YWld73"
      },
      "source": [
        "## Step3 資料前處理&建模 \n",
        "\n",
        "- 建模流程<br>\n",
        "![ml_process.png](https://i.imgur.com/eSK4LVT.png)"
      ]
    },
    {
      "cell_type": "markdown",
      "metadata": {
        "id": "RvR2I0P5ld73"
      },
      "source": [
        "### 3-1 資料前處理\n",
        "1. 空值處理方式\n",
        "\n",
        ">依照業務邏輯/統計方法選擇補值方式\n",
        ">- 補0\n",
        ">- 補中位數 / 平均值 / 眾數\n",
        ">- 剔除變數\n",
        ">- 用ML方法補值(容易overfitting)\n",
        "\n",
        "2. 離群值處理方式\n",
        "\n",
        "> 透過統計值或盒狀圖檢視有無離群值\n",
        ">- 補值\n",
        ">- 另建欄位\n",
        ">- 剔除變數"
      ]
    },
    {
      "cell_type": "code",
      "metadata": {
        "id": "WfZkLx0xld73"
      },
      "source": [
        "#將所有空值補上\n",
        "#若資料型態為object，補上\"NULL\"\n",
        "#若資料型態為數值，補上-1\n",
        "train_data[train_data.select_dtypes(include=['object']).columns] = train_data[train_data.select_dtypes(include=['object']).columns].fillna(\"NULL\")\n",
        "train_data[train_data.select_dtypes(include=['float64', 'int64']).columns] = train_data[train_data.select_dtypes(include=['float64', 'int64']).columns].fillna(-1)"
      ],
      "execution_count": null,
      "outputs": []
    },
    {
      "cell_type": "code",
      "metadata": {
        "id": "Y0uA68R9ld73"
      },
      "source": [
        "#將object欄位使用Label Encoder\n",
        "labelencoder = LabelEncoder()\n",
        "obj_col = train_data.select_dtypes(include=['object']).columns.to_list()\n",
        "for col in obj_col:\n",
        "    train_data[col] = labelencoder.fit_transform(train_data[col])"
      ],
      "execution_count": null,
      "outputs": []
    },
    {
      "cell_type": "markdown",
      "metadata": {
        "id": "Q85du3SXld73"
      },
      "source": [
        "### 3-2 建立模型\n",
        "#### 決策樹 Decision Tree\n",
        "\n",
        "- 決策樹簡介\n",
        "> 從訓練資料中找出規則，並使每一次切分資料有最大的訊息增益(Information Gain)\n",
        "\n",
        "![decision_tree.jpeg](https://i.imgur.com/zPfQjxO.jpg)\n",
        "\n",
        "- LightGBM簡介\n",
        "> LightGBM是Gradient Boosting Tree的其中一種，而Boosting也是多棵樹集合(Ensemble)的另一種方法。其核心概念是先訓練一棵較簡單的樹，再透過樣本權重分配的方式針對估不準的樣本重新建樹，相較於單一棵決策樹通常有更好的精準度。\n",
        "\n",
        "![lgbm.png](https://i.imgur.com/GXjkWZD.png)\n",
        "\n",
        "\n",
        "延伸閱讀 <br>\n",
        "- [kaggle機器學習競賽神器xgboost介紹](https://medium.com/jameslearningnote/%E8%B3%87%E6%96%99%E5%88%86%E6%9E%90-%E6%A9%9F%E5%99%A8%E5%AD%B8%E7%BF%92-%E7%AC%AC5-2%E8%AC%9B-kaggle%E6%A9%9F%E5%99%A8%E5%AD%B8%E7%BF%92%E7%AB%B6%E8%B3%BD%E7%A5%9E%E5%99%A8xgboost%E4%BB%8B%E7%B4%B9-1c8f55cffcc)\n",
        "- [《決策樹系列》LightGBM模型理論](https://medium.com/@jimmywu0621/%E6%B1%BA%E7%AD%96%E6%A8%B9%E7%B3%BB%E5%88%97-lightgbm%E6%A8%A1%E5%9E%8B%E7%90%86%E8%AB%96-96ce38ea8940)"
      ]
    },
    {
      "cell_type": "code",
      "metadata": {
        "id": "sG8wkJ46ld73"
      },
      "source": [
        "#將資料切分為train&test\n",
        "df_fraud = train_data[train_data[\"FRAUD_IND\"] == 1]\n",
        "df_not_fraud = train_data[train_data[\"FRAUD_IND\"] != 1].sample(frac=0.7, random_state=42)\n",
        "df_train = pd.concat([df_fraud, df_not_fraud], 0)\n",
        "X = df_train.drop([\"FRAUD_IND\", \"TXKEY\", \"DATETIME\", \"CANO\", \"CHID\", \"ACQIC\", \"MCHNO\", \"AGE\"], 1)\n",
        "y = df_train[\"FRAUD_IND\"]\n",
        "\n",
        "x_train, x_test, y_train, y_test = train_test_split(X, y, test_size=0.33, shuffle=True, random_state=42)\n",
        "lgb_train = lgb.Dataset(x_train, y_train)\n",
        "lgb_test = lgb.Dataset(x_test, y_test)"
      ],
      "execution_count": null,
      "outputs": []
    },
    {
      "cell_type": "code",
      "metadata": {
        "id": "USrwPY7cld73"
      },
      "source": [
        "#設定模型參數\n",
        "params = {\n",
        "    \"boosting_type\": \"gbdt\",\n",
        "    \"objective\": \"binary\",\n",
        "    \"metric\": \"binary_logloss\",\n",
        "    \"max_depth\": 8,\n",
        "    \"learning_rate\": 0.05,\n",
        "    \"n_estimators\": 1000,\n",
        "}"
      ],
      "execution_count": null,
      "outputs": []
    },
    {
      "cell_type": "code",
      "metadata": {
        "id": "QdimJG6-ld73",
        "colab": {
          "base_uri": "https://localhost:8080/"
        },
        "outputId": "3acdb442-2109-4c5a-8bd0-bd261d9e5b53"
      },
      "source": [
        "#建立模型\n",
        "clf = lgb.train(\n",
        "    params,\n",
        "    lgb_train,\n",
        "    num_boost_round=1000,\n",
        "    valid_sets=[lgb_train, lgb_test],\n",
        "    early_stopping_rounds=30,\n",
        "    verbose_eval=50\n",
        ")"
      ],
      "execution_count": null,
      "outputs": [
        {
          "output_type": "stream",
          "text": [
            "/usr/local/lib/python3.6/dist-packages/lightgbm/engine.py:118: UserWarning: Found `n_estimators` in params. Will use it instead of argument\n",
            "  warnings.warn(\"Found `{}` in params. Will use it instead of argument\".format(alias))\n"
          ],
          "name": "stderr"
        },
        {
          "output_type": "stream",
          "text": [
            "Training until validation scores don't improve for 30 rounds.\n",
            "[50]\ttraining's binary_logloss: 0.162279\tvalid_1's binary_logloss: 0.162807\n",
            "[100]\ttraining's binary_logloss: 0.134768\tvalid_1's binary_logloss: 0.136324\n",
            "[150]\ttraining's binary_logloss: 0.122707\tvalid_1's binary_logloss: 0.125311\n",
            "[200]\ttraining's binary_logloss: 0.114838\tvalid_1's binary_logloss: 0.118302\n",
            "[250]\ttraining's binary_logloss: 0.108433\tvalid_1's binary_logloss: 0.112826\n",
            "[300]\ttraining's binary_logloss: 0.103261\tvalid_1's binary_logloss: 0.108748\n",
            "[350]\ttraining's binary_logloss: 0.0987153\tvalid_1's binary_logloss: 0.104977\n",
            "[400]\ttraining's binary_logloss: 0.0947501\tvalid_1's binary_logloss: 0.101738\n",
            "[450]\ttraining's binary_logloss: 0.0907433\tvalid_1's binary_logloss: 0.0984731\n",
            "[500]\ttraining's binary_logloss: 0.0871949\tvalid_1's binary_logloss: 0.0957686\n",
            "[550]\ttraining's binary_logloss: 0.0840042\tvalid_1's binary_logloss: 0.0932831\n",
            "[600]\ttraining's binary_logloss: 0.0807209\tvalid_1's binary_logloss: 0.0907092\n",
            "[650]\ttraining's binary_logloss: 0.077878\tvalid_1's binary_logloss: 0.0885916\n",
            "[700]\ttraining's binary_logloss: 0.0751942\tvalid_1's binary_logloss: 0.0865896\n",
            "[750]\ttraining's binary_logloss: 0.0725535\tvalid_1's binary_logloss: 0.0846285\n",
            "[800]\ttraining's binary_logloss: 0.0703982\tvalid_1's binary_logloss: 0.0830579\n",
            "[850]\ttraining's binary_logloss: 0.0684993\tvalid_1's binary_logloss: 0.0817401\n",
            "[900]\ttraining's binary_logloss: 0.0664595\tvalid_1's binary_logloss: 0.0802043\n",
            "[950]\ttraining's binary_logloss: 0.0644348\tvalid_1's binary_logloss: 0.0787406\n",
            "[1000]\ttraining's binary_logloss: 0.0626813\tvalid_1's binary_logloss: 0.0775181\n",
            "Did not meet early stopping. Best iteration is:\n",
            "[1000]\ttraining's binary_logloss: 0.0626813\tvalid_1's binary_logloss: 0.0775181\n"
          ],
          "name": "stdout"
        }
      ]
    },
    {
      "cell_type": "markdown",
      "metadata": {
        "id": "JhUnzgjVld73"
      },
      "source": [
        "### 3-3 模型驗證\n",
        "本次模型衡量指標為F1-Score"
      ]
    },
    {
      "cell_type": "code",
      "metadata": {
        "id": "9_99bW3sld73"
      },
      "source": [
        "y_pred = clf.predict(x_test)\n",
        "precision, recall, threshold = precision_recall_curve(y_test, y_pred)"
      ],
      "execution_count": null,
      "outputs": []
    },
    {
      "cell_type": "code",
      "metadata": {
        "id": "qjoBFZt3ld73"
      },
      "source": [
        "performance = {\"precision\": precision[0:-1],\n",
        "               \"recall\": recall[0:-1],\n",
        "               \"threshold\": threshold\n",
        "              }\n",
        "performance[\"f1\"] = 2 * (performance[\"precision\"] * performance[\"recall\"]) / (performance[\"precision\"] + performance[\"recall\"])\n",
        "performance = pd.DataFrame(performance)\n",
        "thr = performance[performance[\"f1\"] == max(performance[\"f1\"])][\"threshold\"].values[0]"
      ],
      "execution_count": null,
      "outputs": []
    },
    {
      "cell_type": "code",
      "metadata": {
        "id": "6Jy9oDcAld73",
        "colab": {
          "base_uri": "https://localhost:8080/"
        },
        "outputId": "31ad09c7-f53b-4245-a210-3eb185c8131f"
      },
      "source": [
        "recall = performance[performance[\"f1\"] == max(performance[\"f1\"])][\"recall\"].values[0]\n",
        "precision = performance[performance[\"f1\"] == max(performance[\"f1\"])][\"precision\"].values[0]\n",
        "print(\"Recall Score:\", recall)\n",
        "print(\"Precision Score:\", precision)\n",
        "print(\"F1 Score:\", 2 * (precision * recall) / (precision + recall))\n",
        "print(\"Threshold: \", thr)"
      ],
      "execution_count": null,
      "outputs": [
        {
          "output_type": "stream",
          "text": [
            "Recall Score: 0.9395369122194909\n",
            "Precision Score: 0.926496461664777\n",
            "F1 Score: 0.9329711214787691\n",
            "Threshold:  0.5103514674209937\n"
          ],
          "name": "stdout"
        }
      ]
    },
    {
      "cell_type": "code",
      "metadata": {
        "id": "j43gI_wDld73"
      },
      "source": [
        "importance = {\n",
        "\"col\": np.array(x_train.columns),\n",
        "\"imp\": lgb.Booster.feature_importance(clf)\n",
        "}"
      ],
      "execution_count": null,
      "outputs": []
    },
    {
      "cell_type": "code",
      "metadata": {
        "id": "auV-H7uwld73",
        "colab": {
          "base_uri": "https://localhost:8080/",
          "height": 1000
        },
        "outputId": "c6c55395-86a1-40df-b19c-4aa4c20e4f58"
      },
      "source": [
        "df_imp = pd.DataFrame(importance).sort_values(by='imp', ascending=False)\n",
        "df_imp"
      ],
      "execution_count": null,
      "outputs": [
        {
          "output_type": "execute_result",
          "data": {
            "text/html": [
              "<div>\n",
              "<style scoped>\n",
              "    .dataframe tbody tr th:only-of-type {\n",
              "        vertical-align: middle;\n",
              "    }\n",
              "\n",
              "    .dataframe tbody tr th {\n",
              "        vertical-align: top;\n",
              "    }\n",
              "\n",
              "    .dataframe thead th {\n",
              "        text-align: right;\n",
              "    }\n",
              "</style>\n",
              "<table border=\"1\" class=\"dataframe\">\n",
              "  <thead>\n",
              "    <tr style=\"text-align: right;\">\n",
              "      <th></th>\n",
              "      <th>col</th>\n",
              "      <th>imp</th>\n",
              "    </tr>\n",
              "  </thead>\n",
              "  <tbody>\n",
              "    <tr>\n",
              "      <th>27</th>\n",
              "      <td>CC_VINTAGE</td>\n",
              "      <td>2738</td>\n",
              "    </tr>\n",
              "    <tr>\n",
              "      <th>0</th>\n",
              "      <td>MCC</td>\n",
              "      <td>2294</td>\n",
              "    </tr>\n",
              "    <tr>\n",
              "      <th>10</th>\n",
              "      <td>SCITY</td>\n",
              "      <td>1787</td>\n",
              "    </tr>\n",
              "    <tr>\n",
              "      <th>8</th>\n",
              "      <td>FLAM1</td>\n",
              "      <td>1761</td>\n",
              "    </tr>\n",
              "    <tr>\n",
              "      <th>37</th>\n",
              "      <td>BONUS_POINTS</td>\n",
              "      <td>1570</td>\n",
              "    </tr>\n",
              "    <tr>\n",
              "      <th>9</th>\n",
              "      <td>STOCN</td>\n",
              "      <td>1479</td>\n",
              "    </tr>\n",
              "    <tr>\n",
              "      <th>35</th>\n",
              "      <td>ACCT_VINTAGE</td>\n",
              "      <td>1201</td>\n",
              "    </tr>\n",
              "    <tr>\n",
              "      <th>36</th>\n",
              "      <td>AVAILABLE_LIMIT_AMT</td>\n",
              "      <td>1199</td>\n",
              "    </tr>\n",
              "    <tr>\n",
              "      <th>14</th>\n",
              "      <td>AGNO</td>\n",
              "      <td>1171</td>\n",
              "    </tr>\n",
              "    <tr>\n",
              "      <th>43</th>\n",
              "      <td>CURRENT_FEE</td>\n",
              "      <td>1156</td>\n",
              "    </tr>\n",
              "    <tr>\n",
              "      <th>46</th>\n",
              "      <td>CURRENT_PURCH_AMT</td>\n",
              "      <td>1088</td>\n",
              "    </tr>\n",
              "    <tr>\n",
              "      <th>33</th>\n",
              "      <td>OCUP_CODE</td>\n",
              "      <td>1056</td>\n",
              "    </tr>\n",
              "    <tr>\n",
              "      <th>41</th>\n",
              "      <td>CREDIT_USE_RATE</td>\n",
              "      <td>959</td>\n",
              "    </tr>\n",
              "    <tr>\n",
              "      <th>39</th>\n",
              "      <td>CREDIT_LIMIT_AMT</td>\n",
              "      <td>869</td>\n",
              "    </tr>\n",
              "    <tr>\n",
              "      <th>15</th>\n",
              "      <td>CATP1</td>\n",
              "      <td>807</td>\n",
              "    </tr>\n",
              "    <tr>\n",
              "      <th>28</th>\n",
              "      <td>EDU_CODE</td>\n",
              "      <td>779</td>\n",
              "    </tr>\n",
              "    <tr>\n",
              "      <th>45</th>\n",
              "      <td>CURRENT_INSTALLMENT_PURCH_AMT</td>\n",
              "      <td>695</td>\n",
              "    </tr>\n",
              "    <tr>\n",
              "      <th>44</th>\n",
              "      <td>CURRENT_INSTALLMENT_BAL</td>\n",
              "      <td>603</td>\n",
              "    </tr>\n",
              "    <tr>\n",
              "      <th>52</th>\n",
              "      <td>HOUR</td>\n",
              "      <td>602</td>\n",
              "    </tr>\n",
              "    <tr>\n",
              "      <th>26</th>\n",
              "      <td>CC_CUST_LEVEL</td>\n",
              "      <td>504</td>\n",
              "    </tr>\n",
              "    <tr>\n",
              "      <th>2</th>\n",
              "      <td>ETYMD</td>\n",
              "      <td>476</td>\n",
              "    </tr>\n",
              "    <tr>\n",
              "      <th>34</th>\n",
              "      <td>POSITION_CODE</td>\n",
              "      <td>418</td>\n",
              "    </tr>\n",
              "    <tr>\n",
              "      <th>22</th>\n",
              "      <td>CGDCT</td>\n",
              "      <td>371</td>\n",
              "    </tr>\n",
              "    <tr>\n",
              "      <th>29</th>\n",
              "      <td>GENDER_CODE</td>\n",
              "      <td>342</td>\n",
              "    </tr>\n",
              "    <tr>\n",
              "      <th>30</th>\n",
              "      <td>INCOME_RANGE_CODE</td>\n",
              "      <td>274</td>\n",
              "    </tr>\n",
              "    <tr>\n",
              "      <th>20</th>\n",
              "      <td>TSCFG</td>\n",
              "      <td>268</td>\n",
              "    </tr>\n",
              "    <tr>\n",
              "      <th>50</th>\n",
              "      <td>REVOLVING_INTEREST</td>\n",
              "      <td>267</td>\n",
              "    </tr>\n",
              "    <tr>\n",
              "      <th>3</th>\n",
              "      <td>ECFG</td>\n",
              "      <td>258</td>\n",
              "    </tr>\n",
              "    <tr>\n",
              "      <th>21</th>\n",
              "      <td>LSCFG</td>\n",
              "      <td>256</td>\n",
              "    </tr>\n",
              "    <tr>\n",
              "      <th>31</th>\n",
              "      <td>MARITAL_STATUS_CODE</td>\n",
              "      <td>247</td>\n",
              "    </tr>\n",
              "    <tr>\n",
              "      <th>23</th>\n",
              "      <td>APPFG</td>\n",
              "      <td>247</td>\n",
              "    </tr>\n",
              "    <tr>\n",
              "      <th>40</th>\n",
              "      <td>CREDIT_REVOLVING_RATE</td>\n",
              "      <td>240</td>\n",
              "    </tr>\n",
              "    <tr>\n",
              "      <th>48</th>\n",
              "      <td>LST_CYCLE_UNPAID_BAL</td>\n",
              "      <td>238</td>\n",
              "    </tr>\n",
              "    <tr>\n",
              "      <th>51</th>\n",
              "      <td>WEEKDAY</td>\n",
              "      <td>234</td>\n",
              "    </tr>\n",
              "    <tr>\n",
              "      <th>38</th>\n",
              "      <td>CC_PAY_LEVEL_CODE</td>\n",
              "      <td>184</td>\n",
              "    </tr>\n",
              "    <tr>\n",
              "      <th>49</th>\n",
              "      <td>REVOLVING_AMT</td>\n",
              "      <td>182</td>\n",
              "    </tr>\n",
              "    <tr>\n",
              "      <th>1</th>\n",
              "      <td>CONTP</td>\n",
              "      <td>156</td>\n",
              "    </tr>\n",
              "    <tr>\n",
              "      <th>19</th>\n",
              "      <td>CATP2</td>\n",
              "      <td>128</td>\n",
              "    </tr>\n",
              "    <tr>\n",
              "      <th>12</th>\n",
              "      <td>PAY_TYPE</td>\n",
              "      <td>118</td>\n",
              "    </tr>\n",
              "    <tr>\n",
              "      <th>16</th>\n",
              "      <td>CUORG</td>\n",
              "      <td>106</td>\n",
              "    </tr>\n",
              "    <tr>\n",
              "      <th>17</th>\n",
              "      <td>FEEFG</td>\n",
              "      <td>103</td>\n",
              "    </tr>\n",
              "    <tr>\n",
              "      <th>18</th>\n",
              "      <td>FEDFG</td>\n",
              "      <td>91</td>\n",
              "    </tr>\n",
              "    <tr>\n",
              "      <th>25</th>\n",
              "      <td>ANDFG</td>\n",
              "      <td>86</td>\n",
              "    </tr>\n",
              "    <tr>\n",
              "      <th>24</th>\n",
              "      <td>SAMFG</td>\n",
              "      <td>82</td>\n",
              "    </tr>\n",
              "    <tr>\n",
              "      <th>13</th>\n",
              "      <td>FALLBACK_IND</td>\n",
              "      <td>64</td>\n",
              "    </tr>\n",
              "    <tr>\n",
              "      <th>4</th>\n",
              "      <td>INSFG</td>\n",
              "      <td>61</td>\n",
              "    </tr>\n",
              "    <tr>\n",
              "      <th>42</th>\n",
              "      <td>CURRENT_CASH_ADV_AMT</td>\n",
              "      <td>58</td>\n",
              "    </tr>\n",
              "    <tr>\n",
              "      <th>47</th>\n",
              "      <td>CURRENT_VIO_AMT</td>\n",
              "      <td>48</td>\n",
              "    </tr>\n",
              "    <tr>\n",
              "      <th>11</th>\n",
              "      <td>OVRLT</td>\n",
              "      <td>41</td>\n",
              "    </tr>\n",
              "    <tr>\n",
              "      <th>32</th>\n",
              "      <td>NATION_CODE</td>\n",
              "      <td>16</td>\n",
              "    </tr>\n",
              "    <tr>\n",
              "      <th>6</th>\n",
              "      <td>BNSFG</td>\n",
              "      <td>14</td>\n",
              "    </tr>\n",
              "    <tr>\n",
              "      <th>5</th>\n",
              "      <td>ITERM</td>\n",
              "      <td>8</td>\n",
              "    </tr>\n",
              "    <tr>\n",
              "      <th>7</th>\n",
              "      <td>BNSPT</td>\n",
              "      <td>0</td>\n",
              "    </tr>\n",
              "  </tbody>\n",
              "</table>\n",
              "</div>"
            ],
            "text/plain": [
              "                              col   imp\n",
              "27                     CC_VINTAGE  2738\n",
              "0                             MCC  2294\n",
              "10                          SCITY  1787\n",
              "8                           FLAM1  1761\n",
              "37                   BONUS_POINTS  1570\n",
              "9                           STOCN  1479\n",
              "35                   ACCT_VINTAGE  1201\n",
              "36            AVAILABLE_LIMIT_AMT  1199\n",
              "14                           AGNO  1171\n",
              "43                    CURRENT_FEE  1156\n",
              "46              CURRENT_PURCH_AMT  1088\n",
              "33                      OCUP_CODE  1056\n",
              "41                CREDIT_USE_RATE   959\n",
              "39               CREDIT_LIMIT_AMT   869\n",
              "15                          CATP1   807\n",
              "28                       EDU_CODE   779\n",
              "45  CURRENT_INSTALLMENT_PURCH_AMT   695\n",
              "44        CURRENT_INSTALLMENT_BAL   603\n",
              "52                           HOUR   602\n",
              "26                  CC_CUST_LEVEL   504\n",
              "2                           ETYMD   476\n",
              "34                  POSITION_CODE   418\n",
              "22                          CGDCT   371\n",
              "29                    GENDER_CODE   342\n",
              "30              INCOME_RANGE_CODE   274\n",
              "20                          TSCFG   268\n",
              "50             REVOLVING_INTEREST   267\n",
              "3                            ECFG   258\n",
              "21                          LSCFG   256\n",
              "31            MARITAL_STATUS_CODE   247\n",
              "23                          APPFG   247\n",
              "40          CREDIT_REVOLVING_RATE   240\n",
              "48           LST_CYCLE_UNPAID_BAL   238\n",
              "51                        WEEKDAY   234\n",
              "38              CC_PAY_LEVEL_CODE   184\n",
              "49                  REVOLVING_AMT   182\n",
              "1                           CONTP   156\n",
              "19                          CATP2   128\n",
              "12                       PAY_TYPE   118\n",
              "16                          CUORG   106\n",
              "17                          FEEFG   103\n",
              "18                          FEDFG    91\n",
              "25                          ANDFG    86\n",
              "24                          SAMFG    82\n",
              "13                   FALLBACK_IND    64\n",
              "4                           INSFG    61\n",
              "42           CURRENT_CASH_ADV_AMT    58\n",
              "47                CURRENT_VIO_AMT    48\n",
              "11                          OVRLT    41\n",
              "32                    NATION_CODE    16\n",
              "6                           BNSFG    14\n",
              "5                           ITERM     8\n",
              "7                           BNSPT     0"
            ]
          },
          "metadata": {
            "tags": []
          },
          "execution_count": 65
        }
      ]
    },
    {
      "cell_type": "code",
      "metadata": {
        "id": "QHOjTX3yld73"
      },
      "source": [
        "imp_list = df_imp[df_imp[\"imp\"] >= 100].col.to_list()"
      ],
      "execution_count": null,
      "outputs": []
    },
    {
      "cell_type": "markdown",
      "metadata": {
        "id": "TncJ30sTld73"
      },
      "source": [
        "# Step4 特徵工程及特徵篩選\n",
        "- 加入交易時間差因子，以及前一個模型的重要特徵!"
      ]
    },
    {
      "cell_type": "code",
      "metadata": {
        "id": "UrT1efKBld73"
      },
      "source": [
        "def date_diff(df, time_shift):\n",
        "    df[\"shift\"] = df.groupby(['CHID'])[\"DATETIME\"].shift(time_shift)\n",
        "    df['CHID_DIF' + str(time_shift)] = (df[\"DATETIME\"] - df['shift']).dt.total_seconds().fillna(0)\n",
        "    df = df.drop(\"shift\", 1)\n",
        "    return df"
      ],
      "execution_count": null,
      "outputs": []
    },
    {
      "cell_type": "code",
      "metadata": {
        "id": "9SPOavZbld73"
      },
      "source": [
        "train_data = date_diff(train_data, 1)\n",
        "train_data = date_diff(train_data, 2)\n",
        "train_data = date_diff(train_data, 3)\n",
        "train_data = date_diff(train_data, 4)\n",
        "train_data = date_diff(train_data, 5)"
      ],
      "execution_count": null,
      "outputs": []
    },
    {
      "cell_type": "code",
      "metadata": {
        "id": "vofJcNeEld73"
      },
      "source": [
        "imp_list.append('CHID_DIF1')\n",
        "imp_list.append('CHID_DIF2')\n",
        "imp_list.append('CHID_DIF3')\n",
        "imp_list.append('CHID_DIF4')\n",
        "imp_list.append('CHID_DIF5')"
      ],
      "execution_count": null,
      "outputs": []
    },
    {
      "cell_type": "code",
      "metadata": {
        "id": "6rfWcG57ld73"
      },
      "source": [
        "#將資料切分為train&test\n",
        "df_fraud = train_data[train_data[\"FRAUD_IND\"] == 1]\n",
        "df_not_fraud = train_data[train_data[\"FRAUD_IND\"] != 1].sample(frac=0.7, random_state=42)\n",
        "df_train = pd.concat([df_fraud, df_not_fraud], 0)\n",
        "X = df_train[imp_list]\n",
        "y = df_train[\"FRAUD_IND\"]\n",
        "x_train, x_test, y_train, y_test = train_test_split(X, y, test_size=0.33, shuffle=True, random_state=42)\n",
        "lgb_train = lgb.Dataset(x_train, y_train)\n",
        "lgb_test = lgb.Dataset(x_test, y_test)"
      ],
      "execution_count": null,
      "outputs": []
    },
    {
      "cell_type": "code",
      "metadata": {
        "id": "KeOQGoFVld73",
        "colab": {
          "base_uri": "https://localhost:8080/"
        },
        "outputId": "a4f19f94-ff89-43cc-fcfb-8dff69885c78"
      },
      "source": [
        "clf = lgb.train(\n",
        "    params,\n",
        "    lgb_train,\n",
        "    num_boost_round=1000,\n",
        "    valid_sets=[lgb_train, lgb_test],\n",
        "    early_stopping_rounds=30,\n",
        "    verbose_eval=50\n",
        ")"
      ],
      "execution_count": null,
      "outputs": [
        {
          "output_type": "stream",
          "text": [
            "/usr/local/lib/python3.6/dist-packages/lightgbm/engine.py:118: UserWarning: Found `n_estimators` in params. Will use it instead of argument\n",
            "  warnings.warn(\"Found `{}` in params. Will use it instead of argument\".format(alias))\n"
          ],
          "name": "stderr"
        },
        {
          "output_type": "stream",
          "text": [
            "Training until validation scores don't improve for 30 rounds.\n",
            "[50]\ttraining's binary_logloss: 0.0988418\tvalid_1's binary_logloss: 0.0987328\n",
            "[100]\ttraining's binary_logloss: 0.068943\tvalid_1's binary_logloss: 0.0702506\n",
            "[150]\ttraining's binary_logloss: 0.0593797\tvalid_1's binary_logloss: 0.0619376\n",
            "[200]\ttraining's binary_logloss: 0.0536572\tvalid_1's binary_logloss: 0.057108\n",
            "[250]\ttraining's binary_logloss: 0.0489891\tvalid_1's binary_logloss: 0.0534217\n",
            "[300]\ttraining's binary_logloss: 0.0450418\tvalid_1's binary_logloss: 0.0502751\n",
            "[350]\ttraining's binary_logloss: 0.041797\tvalid_1's binary_logloss: 0.0477107\n",
            "[400]\ttraining's binary_logloss: 0.0386505\tvalid_1's binary_logloss: 0.0454843\n",
            "[450]\ttraining's binary_logloss: 0.0357607\tvalid_1's binary_logloss: 0.0432438\n",
            "[500]\ttraining's binary_logloss: 0.0331923\tvalid_1's binary_logloss: 0.0412911\n",
            "[550]\ttraining's binary_logloss: 0.0308869\tvalid_1's binary_logloss: 0.0394743\n",
            "[600]\ttraining's binary_logloss: 0.0290428\tvalid_1's binary_logloss: 0.0380498\n",
            "[650]\ttraining's binary_logloss: 0.0271601\tvalid_1's binary_logloss: 0.0366073\n",
            "[700]\ttraining's binary_logloss: 0.0255075\tvalid_1's binary_logloss: 0.0353398\n",
            "[750]\ttraining's binary_logloss: 0.023924\tvalid_1's binary_logloss: 0.0341102\n",
            "[800]\ttraining's binary_logloss: 0.0224654\tvalid_1's binary_logloss: 0.0330236\n",
            "[850]\ttraining's binary_logloss: 0.0211296\tvalid_1's binary_logloss: 0.0319817\n",
            "[900]\ttraining's binary_logloss: 0.0199191\tvalid_1's binary_logloss: 0.0310739\n",
            "[950]\ttraining's binary_logloss: 0.0189229\tvalid_1's binary_logloss: 0.030374\n",
            "[1000]\ttraining's binary_logloss: 0.0178636\tvalid_1's binary_logloss: 0.029609\n",
            "Did not meet early stopping. Best iteration is:\n",
            "[1000]\ttraining's binary_logloss: 0.0178636\tvalid_1's binary_logloss: 0.029609\n"
          ],
          "name": "stdout"
        }
      ]
    },
    {
      "cell_type": "code",
      "metadata": {
        "id": "AjCw4Gbgld73"
      },
      "source": [
        "y_pred = clf.predict_proba(x_test)\n",
        "precision, recall, threshold = precision_recall_curve(y_test, y_pred)"
      ],
      "execution_count": null,
      "outputs": []
    },
    {
      "cell_type": "code",
      "metadata": {
        "id": "WLiPvKEuld73"
      },
      "source": [
        "performance = {\"precision\": precision[0:-1],\n",
        "               \"recall\": recall[0:-1],\n",
        "               \"threshold\": threshold\n",
        "              }\n",
        "performance[\"f1\"] = 2 * (performance[\"precision\"] * performance[\"recall\"]) / (performance[\"precision\"] + performance[\"recall\"])\n",
        "performance = pd.DataFrame(performance)\n",
        "thr = performance[performance[\"f1\"] == max(performance[\"f1\"])][\"threshold\"].values[0]"
      ],
      "execution_count": null,
      "outputs": []
    },
    {
      "cell_type": "code",
      "metadata": {
        "id": "DdFXU3-Jld73",
        "colab": {
          "base_uri": "https://localhost:8080/"
        },
        "outputId": "5cd5f743-5763-43a1-dd64-d9db6d74179f"
      },
      "source": [
        "recall = performance[performance[\"f1\"] == max(performance[\"f1\"])][\"recall\"].values[0]\n",
        "precision = performance[performance[\"f1\"] == max(performance[\"f1\"])][\"precision\"].values[0]\n",
        "print(\"Recall Score:\", recall)\n",
        "print(\"Precision Score:\", precision)\n",
        "print(\"F1 Score:\", 2 * (precision * recall) / (precision + recall))\n",
        "print(\"Threshold: \", thr)"
      ],
      "execution_count": null,
      "outputs": [
        {
          "output_type": "stream",
          "text": [
            "Recall Score: 0.9725636349218936\n",
            "Precision Score: 0.9783432377457824\n",
            "F1 Score: 0.975444875236107\n",
            "Threshold:  0.49328515084712365\n"
          ],
          "name": "stdout"
        }
      ]
    },
    {
      "cell_type": "markdown",
      "metadata": {
        "id": "o9poDzqJld74"
      },
      "source": [
        "## Step5 產製丟到Kaggle的測資"
      ]
    },
    {
      "cell_type": "code",
      "metadata": {
        "id": "3dBUmEcFld74",
        "colab": {
          "base_uri": "https://localhost:8080/",
          "height": 237
        },
        "outputId": "e3296942-2e80-4b2c-9fdf-51fcdde970c3"
      },
      "source": [
        "txkey = test_data[\"TXKEY\"]\n",
        "test_data[\"DATETIME\"] = test_data[\"DATETIME\"].apply(lambda x: datetime.strptime(x, \"%Y-%m-%d %H:%M:%S\"))\n",
        "test_data[\"WEEKDAY\"] = test_data[\"DATETIME\"].apply(lambda x: x.weekday() + 1)\n",
        "test_data[\"HOUR\"] = test_data[\"DATETIME\"].apply(lambda x: x.hour + 1)"
      ],
      "execution_count": null,
      "outputs": [
        {
          "output_type": "error",
          "ename": "NameError",
          "evalue": "ignored",
          "traceback": [
            "\u001b[0;31m---------------------------------------------------------------------------\u001b[0m",
            "\u001b[0;31mNameError\u001b[0m                                 Traceback (most recent call last)",
            "\u001b[0;32m<ipython-input-2-50ebf1adaef9>\u001b[0m in \u001b[0;36m<module>\u001b[0;34m()\u001b[0m\n\u001b[0;32m----> 1\u001b[0;31m \u001b[0mtxkey\u001b[0m \u001b[0;34m=\u001b[0m \u001b[0mtest_data\u001b[0m\u001b[0;34m[\u001b[0m\u001b[0;34m\"TXKEY\"\u001b[0m\u001b[0;34m]\u001b[0m\u001b[0;34m\u001b[0m\u001b[0;34m\u001b[0m\u001b[0m\n\u001b[0m\u001b[1;32m      2\u001b[0m \u001b[0mtest_data\u001b[0m\u001b[0;34m[\u001b[0m\u001b[0;34m\"DATETIME\"\u001b[0m\u001b[0;34m]\u001b[0m \u001b[0;34m=\u001b[0m \u001b[0mtest_data\u001b[0m\u001b[0;34m[\u001b[0m\u001b[0;34m\"DATETIME\"\u001b[0m\u001b[0;34m]\u001b[0m\u001b[0;34m.\u001b[0m\u001b[0mapply\u001b[0m\u001b[0;34m(\u001b[0m\u001b[0;32mlambda\u001b[0m \u001b[0mx\u001b[0m\u001b[0;34m:\u001b[0m \u001b[0mdatetime\u001b[0m\u001b[0;34m.\u001b[0m\u001b[0mstrptime\u001b[0m\u001b[0;34m(\u001b[0m\u001b[0mx\u001b[0m\u001b[0;34m,\u001b[0m \u001b[0;34m\"%Y-%m-%d %H:%M:%S\"\u001b[0m\u001b[0;34m)\u001b[0m\u001b[0;34m)\u001b[0m\u001b[0;34m\u001b[0m\u001b[0;34m\u001b[0m\u001b[0m\n\u001b[1;32m      3\u001b[0m \u001b[0mtest_data\u001b[0m\u001b[0;34m[\u001b[0m\u001b[0;34m\"WEEKDAY\"\u001b[0m\u001b[0;34m]\u001b[0m \u001b[0;34m=\u001b[0m \u001b[0mtest_data\u001b[0m\u001b[0;34m[\u001b[0m\u001b[0;34m\"DATETIME\"\u001b[0m\u001b[0;34m]\u001b[0m\u001b[0;34m.\u001b[0m\u001b[0mapply\u001b[0m\u001b[0;34m(\u001b[0m\u001b[0;32mlambda\u001b[0m \u001b[0mx\u001b[0m\u001b[0;34m:\u001b[0m \u001b[0mx\u001b[0m\u001b[0;34m.\u001b[0m\u001b[0mweekday\u001b[0m\u001b[0;34m(\u001b[0m\u001b[0;34m)\u001b[0m \u001b[0;34m+\u001b[0m \u001b[0;36m1\u001b[0m\u001b[0;34m)\u001b[0m\u001b[0;34m\u001b[0m\u001b[0;34m\u001b[0m\u001b[0m\n\u001b[1;32m      4\u001b[0m \u001b[0mtest_data\u001b[0m\u001b[0;34m[\u001b[0m\u001b[0;34m\"HOUR\"\u001b[0m\u001b[0;34m]\u001b[0m \u001b[0;34m=\u001b[0m \u001b[0mtest_data\u001b[0m\u001b[0;34m[\u001b[0m\u001b[0;34m\"DATETIME\"\u001b[0m\u001b[0;34m]\u001b[0m\u001b[0;34m.\u001b[0m\u001b[0mapply\u001b[0m\u001b[0;34m(\u001b[0m\u001b[0;32mlambda\u001b[0m \u001b[0mx\u001b[0m\u001b[0;34m:\u001b[0m \u001b[0mx\u001b[0m\u001b[0;34m.\u001b[0m\u001b[0mhour\u001b[0m \u001b[0;34m+\u001b[0m \u001b[0;36m1\u001b[0m\u001b[0;34m)\u001b[0m\u001b[0;34m\u001b[0m\u001b[0;34m\u001b[0m\u001b[0m\n",
            "\u001b[0;31mNameError\u001b[0m: name 'test_data' is not defined"
          ]
        }
      ]
    },
    {
      "cell_type": "code",
      "metadata": {
        "id": "zw0WUOTkld74",
        "colab": {
          "base_uri": "https://localhost:8080/",
          "height": 271
        },
        "outputId": "4d64ed2f-39ff-4a09-ab33-56c0f7628737"
      },
      "source": [
        "test_data[test_data.select_dtypes(include=['object']).columns] = test_data[test_data.select_dtypes(include=['object']).columns].fillna(\"NULL\")\n",
        "test_data[test_data.select_dtypes(include=['float64', 'int64']).columns] = test_data[test_data.select_dtypes(include=['float64', 'int64']).columns].fillna(-1)\n",
        "obj_col = test_data.select_dtypes(include=['object']).columns.to_list()\n",
        "for col in obj_col:\n",
        "    test_data[col] = labelencoder.fit_transform(test_data[col])"
      ],
      "execution_count": null,
      "outputs": [
        {
          "output_type": "error",
          "ename": "NameError",
          "evalue": "ignored",
          "traceback": [
            "\u001b[0;31m---------------------------------------------------------------------------\u001b[0m",
            "\u001b[0;31mNameError\u001b[0m                                 Traceback (most recent call last)",
            "\u001b[0;32m<ipython-input-3-1646c8dffef4>\u001b[0m in \u001b[0;36m<module>\u001b[0;34m()\u001b[0m\n\u001b[0;32m----> 1\u001b[0;31m \u001b[0mtest_data\u001b[0m\u001b[0;34m[\u001b[0m\u001b[0mtest_data\u001b[0m\u001b[0;34m.\u001b[0m\u001b[0mselect_dtypes\u001b[0m\u001b[0;34m(\u001b[0m\u001b[0minclude\u001b[0m\u001b[0;34m=\u001b[0m\u001b[0;34m[\u001b[0m\u001b[0;34m'object'\u001b[0m\u001b[0;34m]\u001b[0m\u001b[0;34m)\u001b[0m\u001b[0;34m.\u001b[0m\u001b[0mcolumns\u001b[0m\u001b[0;34m]\u001b[0m \u001b[0;34m=\u001b[0m \u001b[0mtest_data\u001b[0m\u001b[0;34m[\u001b[0m\u001b[0mtest_data\u001b[0m\u001b[0;34m.\u001b[0m\u001b[0mselect_dtypes\u001b[0m\u001b[0;34m(\u001b[0m\u001b[0minclude\u001b[0m\u001b[0;34m=\u001b[0m\u001b[0;34m[\u001b[0m\u001b[0;34m'object'\u001b[0m\u001b[0;34m]\u001b[0m\u001b[0;34m)\u001b[0m\u001b[0;34m.\u001b[0m\u001b[0mcolumns\u001b[0m\u001b[0;34m]\u001b[0m\u001b[0;34m.\u001b[0m\u001b[0mfillna\u001b[0m\u001b[0;34m(\u001b[0m\u001b[0;34m\"NULL\"\u001b[0m\u001b[0;34m)\u001b[0m\u001b[0;34m\u001b[0m\u001b[0;34m\u001b[0m\u001b[0m\n\u001b[0m\u001b[1;32m      2\u001b[0m \u001b[0mtest_data\u001b[0m\u001b[0;34m[\u001b[0m\u001b[0mtest_data\u001b[0m\u001b[0;34m.\u001b[0m\u001b[0mselect_dtypes\u001b[0m\u001b[0;34m(\u001b[0m\u001b[0minclude\u001b[0m\u001b[0;34m=\u001b[0m\u001b[0;34m[\u001b[0m\u001b[0;34m'float64'\u001b[0m\u001b[0;34m,\u001b[0m \u001b[0;34m'int64'\u001b[0m\u001b[0;34m]\u001b[0m\u001b[0;34m)\u001b[0m\u001b[0;34m.\u001b[0m\u001b[0mcolumns\u001b[0m\u001b[0;34m]\u001b[0m \u001b[0;34m=\u001b[0m \u001b[0mtest_data\u001b[0m\u001b[0;34m[\u001b[0m\u001b[0mtest_data\u001b[0m\u001b[0;34m.\u001b[0m\u001b[0mselect_dtypes\u001b[0m\u001b[0;34m(\u001b[0m\u001b[0minclude\u001b[0m\u001b[0;34m=\u001b[0m\u001b[0;34m[\u001b[0m\u001b[0;34m'float64'\u001b[0m\u001b[0;34m,\u001b[0m \u001b[0;34m'int64'\u001b[0m\u001b[0;34m]\u001b[0m\u001b[0;34m)\u001b[0m\u001b[0;34m.\u001b[0m\u001b[0mcolumns\u001b[0m\u001b[0;34m]\u001b[0m\u001b[0;34m.\u001b[0m\u001b[0mfillna\u001b[0m\u001b[0;34m(\u001b[0m\u001b[0;34m-\u001b[0m\u001b[0;36m1\u001b[0m\u001b[0;34m)\u001b[0m\u001b[0;34m\u001b[0m\u001b[0;34m\u001b[0m\u001b[0m\n\u001b[1;32m      3\u001b[0m \u001b[0mobj_col\u001b[0m \u001b[0;34m=\u001b[0m \u001b[0mtest_data\u001b[0m\u001b[0;34m.\u001b[0m\u001b[0mselect_dtypes\u001b[0m\u001b[0;34m(\u001b[0m\u001b[0minclude\u001b[0m\u001b[0;34m=\u001b[0m\u001b[0;34m[\u001b[0m\u001b[0;34m'object'\u001b[0m\u001b[0;34m]\u001b[0m\u001b[0;34m)\u001b[0m\u001b[0;34m.\u001b[0m\u001b[0mcolumns\u001b[0m\u001b[0;34m.\u001b[0m\u001b[0mto_list\u001b[0m\u001b[0;34m(\u001b[0m\u001b[0;34m)\u001b[0m\u001b[0;34m\u001b[0m\u001b[0;34m\u001b[0m\u001b[0m\n\u001b[1;32m      4\u001b[0m \u001b[0;32mfor\u001b[0m \u001b[0mcol\u001b[0m \u001b[0;32min\u001b[0m \u001b[0mobj_col\u001b[0m\u001b[0;34m:\u001b[0m\u001b[0;34m\u001b[0m\u001b[0;34m\u001b[0m\u001b[0m\n\u001b[1;32m      5\u001b[0m     \u001b[0mtest_data\u001b[0m\u001b[0;34m[\u001b[0m\u001b[0mcol\u001b[0m\u001b[0;34m]\u001b[0m \u001b[0;34m=\u001b[0m \u001b[0mlabelencoder\u001b[0m\u001b[0;34m.\u001b[0m\u001b[0mfit_transform\u001b[0m\u001b[0;34m(\u001b[0m\u001b[0mtest_data\u001b[0m\u001b[0;34m[\u001b[0m\u001b[0mcol\u001b[0m\u001b[0;34m]\u001b[0m\u001b[0;34m)\u001b[0m\u001b[0;34m\u001b[0m\u001b[0;34m\u001b[0m\u001b[0m\n",
            "\u001b[0;31mNameError\u001b[0m: name 'test_data' is not defined"
          ]
        }
      ]
    },
    {
      "cell_type": "code",
      "metadata": {
        "id": "MsVz6u-Eld74"
      },
      "source": [
        "test_data = date_diff(test_data, 1)\n",
        "test_data = date_diff(test_data, 2)\n",
        "test_data = date_diff(test_data, 3)\n",
        "test_data = date_diff(test_data, 4)\n",
        "test_data = date_diff(test_data, 5)"
      ],
      "execution_count": null,
      "outputs": []
    },
    {
      "cell_type": "code",
      "metadata": {
        "id": "jZsJiMtLld74"
      },
      "source": [
        "test_set = test_data[imp_list]"
      ],
      "execution_count": null,
      "outputs": []
    },
    {
      "cell_type": "code",
      "metadata": {
        "id": "PTgIUWaild74"
      },
      "source": [
        "test_pred = clf.predict_proba(test_set)\n",
        "test_pred = np.where(test_pred >= thr, 1, 0)"
      ],
      "execution_count": null,
      "outputs": []
    },
    {
      "cell_type": "code",
      "metadata": {
        "id": "oKIgnVk0ld74"
      },
      "source": [
        "test_pred.sum()"
      ],
      "execution_count": null,
      "outputs": []
    },
    {
      "cell_type": "code",
      "metadata": {
        "id": "qkRreXfdld74"
      },
      "source": [
        "submit_dict = {\n",
        "    \"TXKEY\": np.array(txkey),\n",
        "    \"FRAUD_IND\": test_pred \n",
        "}\n"
      ],
      "execution_count": null,
      "outputs": []
    },
    {
      "cell_type": "code",
      "metadata": {
        "id": "_h6cdk7jld74"
      },
      "source": [
        "submit = pd.DataFrame(submit_dict)"
      ],
      "execution_count": null,
      "outputs": []
    },
    {
      "cell_type": "code",
      "metadata": {
        "id": "zYT6Xde_ld74"
      },
      "source": [
        "submit.to_csv(\"submit.csv\", index=False)"
      ],
      "execution_count": null,
      "outputs": []
    },
    {
      "cell_type": "code",
      "metadata": {
        "id": "7P6kumBhld74"
      },
      "source": [
        ""
      ],
      "execution_count": null,
      "outputs": []
    }
  ]
}